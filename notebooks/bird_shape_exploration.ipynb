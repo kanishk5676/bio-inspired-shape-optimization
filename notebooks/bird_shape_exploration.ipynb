{
 "cells": [
  {
   "cell_type": "markdown",
   "id": "21af52af",
   "metadata": {},
   "source": [
    "# Requirments\n"
   ]
  },
  {
   "cell_type": "code",
   "execution_count": 3,
   "id": "d86a5d1d",
   "metadata": {},
   "outputs": [],
   "source": [
    "import numpy as np\n",
    "import matplotlib.pyplot as plt\n",
    "from scipy.special import comb\n",
    "import pandas as pd\n",
    "import numpy as np"
   ]
  },
  {
   "cell_type": "markdown",
   "id": "d92eb27e",
   "metadata": {},
   "source": [
    "# DATA NORMOLISING"
   ]
  },
  {
   "cell_type": "code",
   "execution_count": 5,
   "id": "b9b53139",
   "metadata": {},
   "outputs": [
    {
     "name": "stdout",
     "output_type": "stream",
     "text": [
      "    Wingspan  Aspect_Ratio  Tail_Length  Wing_Loading\n",
      "0   0.297670      0.455526     0.207826      0.000006\n",
      "1   0.236262      0.442049     0.172881      0.000005\n",
      "2   0.290580      0.330189     0.229113      0.000006\n",
      "3   0.255888      0.425876     0.173127      0.000005\n",
      "4   0.275386      0.540431     0.188754      0.000007\n",
      "..       ...           ...          ...           ...\n",
      "95  0.437706      0.509434     0.226283      0.000008\n",
      "96  0.454419      0.443396     0.272425      0.000013\n",
      "97  0.400228      0.334232     0.181002      0.000007\n",
      "98  0.449607      0.412399     0.253599      0.000010\n",
      "99  0.674728      0.443396     0.322505      0.000015\n",
      "\n",
      "[100 rows x 4 columns]\n"
     ]
    }
   ],
   "source": [
    "# Load the data\n",
    "df = pd.read_csv(\"../Data/AVONET_BIRDLIFE.csv\", encoding='ISO-8859-1')\n",
    "\n",
    "# Clean and remove rows with missing key values\n",
    "df = df[['species', 'Wing.Length', 'Hand-Wing.Index', 'Tail.Length', 'Mass']].dropna()\n",
    "\n",
    "# Feature Engineering\n",
    "df['Wingspan'] = df['Wing.Length'] * 2  # approx. estimate\n",
    "df['Aspect_Ratio'] = df['Hand-Wing.Index']  # use directly or normalize\n",
    "df['Wing_Area'] = df['Wingspan'] ** 2 / df['Aspect_Ratio']\n",
    "df['Wing_Loading'] = df['Mass'] / df['Wing_Area']\n",
    "\n",
    "# Normalize features for RL environment\n",
    "from sklearn.preprocessing import MinMaxScaler\n",
    "scaler = MinMaxScaler()\n",
    "normalized = scaler.fit_transform(df[['Wingspan', 'Aspect_Ratio', 'Tail.Length', 'Wing_Loading']])\n",
    "normalized_df = pd.DataFrame(normalized, columns=['Wingspan', 'Aspect_Ratio', 'Tail_Length', 'Wing_Loading'])\n",
    "\n",
    "# Final dataset ready for simulation input\n",
    "print(normalized_df.head(100))\n"
   ]
  }
 ],
 "metadata": {
  "kernelspec": {
   "display_name": "Python 3",
   "language": "python",
   "name": "python3"
  },
  "language_info": {
   "codemirror_mode": {
    "name": "ipython",
    "version": 3
   },
   "file_extension": ".py",
   "mimetype": "text/x-python",
   "name": "python",
   "nbconvert_exporter": "python",
   "pygments_lexer": "ipython3",
   "version": "3.11.4"
  }
 },
 "nbformat": 4,
 "nbformat_minor": 5
}
